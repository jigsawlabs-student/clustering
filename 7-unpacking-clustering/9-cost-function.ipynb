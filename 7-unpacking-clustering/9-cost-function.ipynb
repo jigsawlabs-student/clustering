{
 "cells": [
  {
   "cell_type": "markdown",
   "metadata": {},
   "source": [
    "# K-Means Clustering Cost Function"
   ]
  },
  {
   "cell_type": "markdown",
   "metadata": {},
   "source": [
    "### Introduction"
   ]
  },
  {
   "cell_type": "markdown",
   "metadata": {},
   "source": [
    "In the last lesson, we saw that our k-means algorithm assigns a label to each observation by choosing the centroid that is closest to the observation.\n"
   ]
  },
  {
   "cell_type": "markdown",
   "metadata": {},
   "source": [
    "$h_\\theta(x)=\\underset{u}{\\mathrm{argmin}} || u - x_i||^2$"
   ]
  },
  {
   "cell_type": "markdown",
   "metadata": {},
   "source": [
    "In this lesson, we'll learn the algorithms cost function and optimization procedure for finding these centroids."
   ]
  },
  {
   "cell_type": "markdown",
   "metadata": {},
   "source": [
    "### Cost Function"
   ]
  },
  {
   "cell_type": "markdown",
   "metadata": {},
   "source": [
    "Just like in our regression algorithm, with k-means clustering, the cost function is the distance of our hypothesis function from the observed data.  The only difference is that with clustering, the distance calculated is distance of the point to the centroid."
   ]
  },
  {
   "cell_type": "code",
   "execution_count": 8,
   "metadata": {},
   "outputs": [
    {
     "data": {
      "text/plain": [
       "array([[13.43186856, 52.48488265],\n",
       "       [13.35296108, 52.54461626],\n",
       "       [13.45900299, 52.51650482],\n",
       "       [13.37135399, 52.48912575],\n",
       "       [13.60523213, 52.45498044],\n",
       "       [13.41176757, 52.54029867],\n",
       "       [13.30900713, 52.49251953],\n",
       "       [13.1987617 , 52.51030432],\n",
       "       [13.50461169, 52.49050636]])"
      ]
     },
     "execution_count": 8,
     "metadata": {},
     "output_type": "execute_result"
    }
   ],
   "source": [
    "kmean.cluster_centers_"
   ]
  },
  {
   "cell_type": "markdown",
   "metadata": {},
   "source": [
    "So for each point, we add up the distance from the centroid of it's cluster.  We can represent this with the following distance formula:"
   ]
  },
  {
   "cell_type": "markdown",
   "metadata": {},
   "source": [
    "> $\\ell_i = \\sqrt{\\sum_{j=1}^n (u_j- x_{ij})^2 } $"
   ]
  },
  {
   "cell_type": "markdown",
   "metadata": {},
   "source": [
    "Where $n$ is the number of features and $j$ is a separate index for each feature."
   ]
  },
  {
   "cell_type": "markdown",
   "metadata": {},
   "source": [
    "So the goal of k-means clustering is: \n",
    "* Find a set of centroids such that the loss function is minimized, that is, each datapoint is close to at least one center.\n",
    "\n",
    "So how do we do that? This brings us to the optimization procedure.  "
   ]
  },
  {
   "cell_type": "markdown",
   "metadata": {},
   "source": [
    "### Optimization Procedure"
   ]
  },
  {
   "cell_type": "markdown",
   "metadata": {},
   "source": [
    "This brings us to the optimization procedure for kmeans clustering.  Our optimization procedure is the following:"
   ]
  },
  {
   "cell_type": "markdown",
   "metadata": {},
   "source": [
    "1. Begin by randomly assigning centroids\n",
    "\n",
    "> $u = \\{u_1...u_k\\}$\n",
    "\n",
    "> We can initialize our centroids by randomly drawing points from the dataset.\n",
    "\n",
    "2. Assign a cluster to each observation point, by applying our hypothesis function \n",
    "> $h_\\theta(x)=\\underset{u}{\\mathrm{argmin}} || u - x_i||^2$\n",
    "\n",
    "3. Recomputing the centers to be the average of their points\n",
    "> $\\displaystyle \\mu^{(j)} := \\sum_{i=1}^m \\frac{x^{(i)} \\mathrm{1}\\{y^{(i)} = j\\}}{\\mathrm{1}\\{y^{(i)} = j\\}}, \\;\\; j=1,\\ldots,k$\n",
    "\n",
    "When no datapoints switch clusters, we stop.  We return these centroids plus the squared loss of the function."
   ]
  },
  {
   "cell_type": "markdown",
   "metadata": {},
   "source": [
    "### See it Visually"
   ]
  },
  {
   "cell_type": "markdown",
   "metadata": {},
   "source": [
    "Let's see these steps in action."
   ]
  },
  {
   "cell_type": "markdown",
   "metadata": {},
   "source": [
    "> 1. Randomly assign centroids\n",
    "\n",
    "> 2. Use hypothesis function to assign points to centroids"
   ]
  },
  {
   "cell_type": "markdown",
   "metadata": {},
   "source": [
    "<img src=\"./cluster-3.png\" width=\"40%\"/> "
   ]
  },
  {
   "cell_type": "markdown",
   "metadata": {},
   "source": [
    "So we begin by choosing four random datapoints as our centroids, and then assign each observation to a cluster based on the closes centroid."
   ]
  },
  {
   "cell_type": "markdown",
   "metadata": {},
   "source": [
    "> 3. Reassign centroid to be point that minimizes the distance of each point to the centroid\n",
    "\n",
    "> 4. Then hypothesis function to assign points to new centroids"
   ]
  },
  {
   "cell_type": "markdown",
   "metadata": {},
   "source": [
    "<img src=\"./cluster-2.png\" width=\"40%\"/> "
   ]
  },
  {
   "cell_type": "markdown",
   "metadata": {},
   "source": [
    "So notice that we first move our centroid to be the center of the observations in it's cluster.  We can see this most in the centroid that began in the top left, and moved to the bottom cluster.  Then we reassigned our observations."
   ]
  },
  {
   "cell_type": "markdown",
   "metadata": {},
   "source": [
    "> 5. Recompute centroid to be point that minimizes weighted distance of reclassified points"
   ]
  },
  {
   "cell_type": "markdown",
   "metadata": {},
   "source": [
    "<img src=\"./cluster-1.png\" width=\"40%\"/> "
   ]
  },
  {
   "cell_type": "markdown",
   "metadata": {},
   "source": [
    "Then we performed the process again.  We reassigned the centroid to be the new center of it's observations, and then reassigned the observations based on the updated centroids."
   ]
  },
  {
   "cell_type": "markdown",
   "metadata": {},
   "source": [
    "If no points switch clusters, we stop."
   ]
  },
  {
   "cell_type": "markdown",
   "metadata": {},
   "source": [
    "### Determining the number of clusters"
   ]
  },
  {
   "cell_type": "markdown",
   "metadata": {},
   "source": [
    "So we just saw how the process for finding the centroids of a dataset.  One thing we did not specify is how we choose the number of centroids to cluster our data into.  "
   ]
  },
  {
   "cell_type": "markdown",
   "metadata": {},
   "source": [
    "The number of clusters we choose is a hyperparameter, and is called $k$.  Notice that we cannot simply choose the k that minimizes the cost, because as we choose more clusters, our cost will *always* decrease.  This is because thex distance from a point to a centroid will decrease."
   ]
  },
  {
   "cell_type": "markdown",
   "metadata": {},
   "source": [
    "So one technique is to plot the cost for various points and see where adding an additional cluster does not *rapidly decrease* the score.  Let's see this in action."
   ]
  },
  {
   "cell_type": "markdown",
   "metadata": {},
   "source": [
    "We can see the sum of the squared errors of points to a centroid with the `inertia_` method."
   ]
  },
  {
   "cell_type": "code",
   "execution_count": 71,
   "metadata": {},
   "outputs": [
    {
     "data": {
      "text/plain": [
       "6.672010827076946"
      ]
     },
     "execution_count": 71,
     "metadata": {},
     "output_type": "execute_result"
    }
   ],
   "source": [
    "from sklearn.metrics import silhouette_score\n",
    "\n",
    "k = 9\n",
    "kmeanModel = KMeans(n_clusters=k).fit(X_geo)\n",
    "predictions = kmeanModel.predict(X_geo)\n",
    "\n",
    "kmeanModel.inertia_"
   ]
  },
  {
   "cell_type": "markdown",
   "metadata": {},
   "source": [
    "Now let's plot the inertia, or SSE, with various values of k."
   ]
  },
  {
   "cell_type": "code",
   "execution_count": 72,
   "metadata": {},
   "outputs": [
    {
     "data": {
      "image/png": "[encoded data removed]",
      "text/plain": [
       "<Figure size 432x288 with 1 Axes>"
      ]
     },
     "metadata": {
      "needs_background": "light"
     },
     "output_type": "display_data"
    }
   ],
   "source": [
    "import matplotlib.pyplot as plt\n",
    "from sklearn.cluster import KMeans\n",
    "import numpy as np\n",
    "from scipy.spatial.distance import cdist\n",
    "distortions = []\n",
    "K = range(1,20)\n",
    "for k in K:\n",
    "    kmeanModel = KMeans(n_clusters=k).fit(X_geo)\n",
    "    kmeanModel.fit(X_geo)\n",
    "    distortions.append(kmeanModel.inertia_)\n",
    "plt.plot(K, distortions, 'bx-')\n",
    "plt.xlabel('k')\n",
    "plt.ylabel('Distortion')\n",
    "plt.title('The Elbow Method showing the optimal k')\n",
    "plt.show()"
   ]
  },
  {
   "cell_type": "markdown",
   "metadata": {},
   "source": [
    "We can see that we get an enormous gain from going from one to two clusters, and then significant benefit from 2 to 3 clusters. Our curve really begins to flatten our around 9 clusters, so we choose that as our value for k. "
   ]
  },
  {
   "cell_type": "markdown",
   "metadata": {},
   "source": [
    "### Summary"
   ]
  },
  {
   "cell_type": "markdown",
   "metadata": {},
   "source": [
    "In this lesson, we saw how the k-means clustering algorithm operates.  We have a hypothesis function that categorizes an observation into a cluster based on the cluster that is closest to the observation.  The cost function calculates the distance of each observation's from it's assigned centroid.  And we have an optimization procedure that first randomly assigns centroids, then applies the hypothesis function to categorize the data, and then updates each centroid such that it centroid's location minimizes the aggregate distance of it's assigned observations. "
   ]
  }
 ],
 "metadata": {
  "kernelspec": {
   "display_name": "Python 3",
   "language": "python",
   "name": "python3"
  },
  "language_info": {
   "codemirror_mode": {
    "name": "ipython",
    "version": 3
   },
   "file_extension": ".py",
   "mimetype": "text/x-python",
   "name": "python",
   "nbconvert_exporter": "python",
   "pygments_lexer": "ipython3",
   "version": "3.7.4"
  }
 },
 "nbformat": 4,
 "nbformat_minor": 4
}
